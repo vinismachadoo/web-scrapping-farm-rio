{
  "nbformat": 4,
  "nbformat_minor": 0,
  "metadata": {
    "colab": {
      "name": "catalogo_farm.ipynb",
      "provenance": [],
      "collapsed_sections": [],
      "include_colab_link": true
    },
    "kernelspec": {
      "name": "python3",
      "display_name": "Python 3"
    }
  },
  "cells": [
    {
      "cell_type": "markdown",
      "metadata": {
        "id": "view-in-github",
        "colab_type": "text"
      },
      "source": [
        "<a href=\"https://colab.research.google.com/github/vinismachadoo/web-scrapping-farm-rio/blob/main/catalogo_farm.ipynb\" target=\"_parent\"><img src=\"https://colab.research.google.com/assets/colab-badge.svg\" alt=\"Open In Colab\"/></a>"
      ]
    },
    {
      "cell_type": "code",
      "metadata": {
        "id": "BXL2weZSCr8T"
      },
      "source": [
        "import requests, threading\n",
        "from multiprocessing.pool import ThreadPool, Pool\n",
        "from bs4 import BeautifulSoup\n",
        "import pandas as pd"
      ],
      "execution_count": null,
      "outputs": []
    },
    {
      "cell_type": "code",
      "metadata": {
        "id": "AKWRZPClzB-Q",
        "colab": {
          "base_uri": "https://localhost:8080/"
        },
        "outputId": "de710e61-6955-41e4-9477-d68d649b9581"
      },
      "source": [
        "url_base = 'https://www.farmrio.com.br'\n",
        "subcategorias_farm = []\n",
        "\n",
        "print('------ Procurando links no site da FARM ------')\n",
        "pagina_inicial = requests.get(url_base)\n",
        "soup = BeautifulSoup(pagina_inicial.content, 'html.parser')\n",
        "menu = soup.find_all('a', {'class':'menu__link menu__link--level-3'})\n",
        "for m in menu:\n",
        "    if 'http' not in m.get('href'):\n",
        "        subcategorias_farm.append(url_base+m.get('href'))\n",
        "    else:\n",
        "        subcategorias_farm.append(m.get('href'))\n",
        "\n",
        "print(f'-- Encontradas {len(subcategorias_farm)} sublinks')"
      ],
      "execution_count": null,
      "outputs": [
        {
          "output_type": "stream",
          "text": [
            "------ Procurando links no site da FARM ------\n",
            "-- Encontradas 79 sublinks\n"
          ],
          "name": "stdout"
        }
      ]
    },
    {
      "cell_type": "code",
      "metadata": {
        "id": "WAAXcNZv1b5i"
      },
      "source": [
        "def encontra_url_categorias(subcategoria):\n",
        "    pagina_categoria = requests.get(subcategoria)\n",
        "    soup = BeautifulSoup(pagina_categoria.text, 'html.parser')\n",
        "    # encontra todas as tag script do html\n",
        "    scripts = soup.find_all('script')\n",
        "    for script in scripts:\n",
        "        s = script.string\n",
        "        # se o script contiver 'var pagecount' pega o link paginado\n",
        "        if s is not None and 'var pagecount' in s:\n",
        "            cat_url = s.split(\"load('\")[1].split(\"' + page\")[0]\n",
        "            lista_url_cartegorias.append(url_base+cat_url)\n",
        "        else:\n",
        "            pass"
      ],
      "execution_count": null,
      "outputs": []
    },
    {
      "cell_type": "code",
      "metadata": {
        "id": "U3QRQgF4rn3W",
        "colab": {
          "base_uri": "https://localhost:8080/"
        },
        "outputId": "a07581c9-b824-47f5-c80e-c1a979b2681a"
      },
      "source": [
        "lista_url_cartegorias = []\n",
        "print('------ Acessando categorias da FARM ------')\n",
        "# executa a função com 15 fios em paralelo para ser mais rápido\n",
        "ThreadPool(15).map(encontra_url_categorias, subcategorias_farm)\n",
        "print('-- Todas os links visitados')\n",
        "# deleta os url duplicados\n",
        "urls_farm = list(dict.fromkeys(lista_url_cartegorias))\n",
        "print(f'-- Encontradas {len(urls_farm)} subcategorias')"
      ],
      "execution_count": null,
      "outputs": [
        {
          "output_type": "stream",
          "text": [
            "------ Acessando categorias da FARM ------\n",
            "-- Todas os links visitados\n",
            "-- Encontradas 35 subcategorias\n"
          ],
          "name": "stdout"
        }
      ]
    },
    {
      "cell_type": "code",
      "metadata": {
        "id": "QdK4JWVCv0yy"
      },
      "source": [
        "def encontra_skus_farm(url_farm):\n",
        "    page_number = 1\n",
        "    while True:\n",
        "        page = requests.get(f'{url_farm}{page_number}')\n",
        "        # se o url for vazio, interrompe o laço\n",
        "        if page.text == '':\n",
        "            break\n",
        "        else:\n",
        "            soup = BeautifulSoup(page.content, 'html.parser')\n",
        "            # encontra todas as tags div da classe identificada\n",
        "            skus = soup.find_all(\"div\", {\"class\":\"shelf__product shelf-product js-vitrine-interativa\"})\n",
        "            for s in skus:\n",
        "                # adiciona na lista o atributo do div\n",
        "                lista_skus.append(s.get('data-product-id'))\n",
        "        page_number += 1"
      ],
      "execution_count": null,
      "outputs": []
    },
    {
      "cell_type": "code",
      "metadata": {
        "id": "ZQUNKTAirtPG",
        "colab": {
          "base_uri": "https://localhost:8080/"
        },
        "outputId": "dd9bef92-a861-4929-8787-57fca3f548c8"
      },
      "source": [
        "lista_skus = []\n",
        "print('------ Pegando SKUS da FARM ------')\n",
        "ThreadPool(20).map(encontra_skus_farm, urls_farm)\n",
        "print('-- Site da FARM totalmente carregado')\n",
        "skus_farm = list(dict.fromkeys(lista_skus))\n",
        "print(f'-- Encontrados {len(skus_farm)} SKUS')"
      ],
      "execution_count": null,
      "outputs": [
        {
          "output_type": "stream",
          "text": [
            "------ Pegando SKUS da FARM ------\n",
            "-- Site da FARM totalmente carregado\n",
            "-- Encontrados 1614 SKUS\n"
          ],
          "name": "stdout"
        }
      ]
    },
    {
      "cell_type": "code",
      "metadata": {
        "id": "-ud2ti7fOIJf"
      },
      "source": [
        "def raspador_farm(sku):\n",
        "    try:\n",
        "        r = requests.get(f'https://www.farmrio.com.br/api/catalog_system/pub/products/search/?fq=productId:{sku}')\n",
        "        product_data = r.json()[0]\n",
        "    except:\n",
        "        pass\n",
        "    else:\n",
        "        try:\n",
        "            id = product_data['productId']\n",
        "        except:\n",
        "            id = ''\n",
        "        try:\n",
        "            nome = product_data['productName']\n",
        "        except:\n",
        "            nome = ''\n",
        "        try:\n",
        "            url = product_data['link']\n",
        "        except:\n",
        "            url = ''\n",
        "        try:\n",
        "            marca = product_data['Marca'][0]\n",
        "        except:\n",
        "            marca = ''\n",
        "        try:\n",
        "            colecao = product_data['Coleção'][0]\n",
        "        except:\n",
        "            colecao = ''\n",
        "        try:\n",
        "            composicao = product_data['Composição'][0]\n",
        "        except:\n",
        "            composicao = ''\n",
        "        try:\n",
        "            estampa = product_data['Nome Estampa'][0]\n",
        "        except:\n",
        "            estampa = ''\n",
        "        # dicionário com as informações geral do produto\n",
        "        general_product_info = {\n",
        "        'ID': id,\n",
        "        'Nome': nome,\n",
        "        'URL': url,\n",
        "        'Marca': marca,\n",
        "        'Colecao': colecao,\n",
        "        'Composicao': composicao,\n",
        "        'Estampa': estampa,\n",
        "        }\n",
        "\n",
        "        for item in product_data['items']:\n",
        "            try:\n",
        "                tamanho = item['Tamanho'][0]\n",
        "            except:\n",
        "                tamanho = ''\n",
        "            try:\n",
        "                ean = item['ean']\n",
        "            except:\n",
        "                ean = ''\n",
        "            try:\n",
        "                em_falta = item['sellers'][0]['commertialOffer']['GetInfoErrorMessage']\n",
        "            except:\n",
        "                em_falta = ''\n",
        "            try:\n",
        "                preco_default = item['sellers'][0]['commertialOffer']['ListPrice']\n",
        "            except:\n",
        "                preco_default = ''\n",
        "            try:\n",
        "                preco_atual = item['sellers'][0]['commertialOffer']['Price']\n",
        "            except:\n",
        "                preco_atual = ''\n",
        "            # dicionário para cada tamanho do produto\n",
        "            size_product_info = {\n",
        "                'Tamanho': tamanho,\n",
        "                'EAN': ean,\n",
        "                'Em falta': em_falta,\n",
        "                'Preço default': preco_default,\n",
        "                'Preco atual': preco_atual\n",
        "            }\n",
        "            # adiciona na lista cada tamanho junto com suas especificações gerais\n",
        "            farm.append({**general_product_info, **size_product_info})"
      ],
      "execution_count": null,
      "outputs": []
    },
    {
      "cell_type": "code",
      "metadata": {
        "id": "E5DYHFsHrvoq",
        "colab": {
          "base_uri": "https://localhost:8080/"
        },
        "outputId": "eeb66607-d399-47e5-c418-08030bede6f4"
      },
      "source": [
        "farm = []\n",
        "print('------ Montando catálogo FARM ------')\n",
        "ThreadPool(100).map(raspador_farm, skus_farm)\n",
        "print(f'-- Catálogo completo com {len(farm)} EANs')"
      ],
      "execution_count": null,
      "outputs": [
        {
          "output_type": "stream",
          "text": [
            "------ Montando catálogo FARM ------\n",
            "-- Catálogo completo com 7253 EANs\n"
          ],
          "name": "stdout"
        }
      ]
    },
    {
      "cell_type": "code",
      "metadata": {
        "id": "6IlBuiXS7azJ",
        "colab": {
          "base_uri": "https://localhost:8080/",
          "height": 691
        },
        "outputId": "d189ef8c-725e-4010-d0d6-36dd7f4e0d8f"
      },
      "source": [
        "df_farm = pd.DataFrame(farm)\n",
        "df_farm"
      ],
      "execution_count": null,
      "outputs": [
        {
          "output_type": "execute_result",
          "data": {
            "text/html": [
              "<div>\n",
              "<style scoped>\n",
              "    .dataframe tbody tr th:only-of-type {\n",
              "        vertical-align: middle;\n",
              "    }\n",
              "\n",
              "    .dataframe tbody tr th {\n",
              "        vertical-align: top;\n",
              "    }\n",
              "\n",
              "    .dataframe thead th {\n",
              "        text-align: right;\n",
              "    }\n",
              "</style>\n",
              "<table border=\"1\" class=\"dataframe\">\n",
              "  <thead>\n",
              "    <tr style=\"text-align: right;\">\n",
              "      <th></th>\n",
              "      <th>ID</th>\n",
              "      <th>Nome</th>\n",
              "      <th>URL</th>\n",
              "      <th>Marca</th>\n",
              "      <th>Colecao</th>\n",
              "      <th>Composicao</th>\n",
              "      <th>Estampa</th>\n",
              "      <th>Tamanho</th>\n",
              "      <th>EAN</th>\n",
              "      <th>Em falta</th>\n",
              "      <th>Preço default</th>\n",
              "      <th>Preco atual</th>\n",
              "    </tr>\n",
              "  </thead>\n",
              "  <tbody>\n",
              "    <tr>\n",
              "      <th>0</th>\n",
              "      <td>46185</td>\n",
              "      <td>Choker Multicolorida</td>\n",
              "      <td>https://www.farmrio.com.br/choker-multicolorid...</td>\n",
              "      <td>Farm</td>\n",
              "      <td>Provisorio</td>\n",
              "      <td>Indefinida</td>\n",
              "      <td></td>\n",
              "      <td>U</td>\n",
              "      <td>2881682276U</td>\n",
              "      <td>Code: withoutPriceFulfillment Status:error Mes...</td>\n",
              "      <td>0.0</td>\n",
              "      <td>0.0</td>\n",
              "    </tr>\n",
              "    <tr>\n",
              "      <th>1</th>\n",
              "      <td>46180</td>\n",
              "      <td>Colar Contrapinado Tons Frios</td>\n",
              "      <td>https://www.farmrio.com.br/colar-contrapinado-...</td>\n",
              "      <td>Farm</td>\n",
              "      <td>Provisorio</td>\n",
              "      <td>Indefinida</td>\n",
              "      <td></td>\n",
              "      <td>U</td>\n",
              "      <td>2881642276U</td>\n",
              "      <td>None</td>\n",
              "      <td>198.0</td>\n",
              "      <td>198.0</td>\n",
              "    </tr>\n",
              "    <tr>\n",
              "      <th>2</th>\n",
              "      <td>566</td>\n",
              "      <td>Bolsa Abacaxi Couro Grande</td>\n",
              "      <td>https://www.farmrio.com.br/bolsa-abacaxi-couro...</td>\n",
              "      <td>Farm</td>\n",
              "      <td>Provisorio</td>\n",
              "      <td>100% Couro</td>\n",
              "      <td></td>\n",
              "      <td>U</td>\n",
              "      <td>2449510026U</td>\n",
              "      <td>None</td>\n",
              "      <td>698.0</td>\n",
              "      <td>698.0</td>\n",
              "    </tr>\n",
              "    <tr>\n",
              "      <th>3</th>\n",
              "      <td>48357</td>\n",
              "      <td>Regata Danca Dos Tucanos</td>\n",
              "      <td>https://www.farmrio.com.br/regata-danca-dos-tu...</td>\n",
              "      <td>Farm</td>\n",
              "      <td>Alto Verao 2021</td>\n",
              "      <td>100% Viscose</td>\n",
              "      <td>DANCA DOS TUCANOS_PRETO</td>\n",
              "      <td>PP</td>\n",
              "      <td>29072810805PP</td>\n",
              "      <td>None</td>\n",
              "      <td>149.0</td>\n",
              "      <td>149.0</td>\n",
              "    </tr>\n",
              "    <tr>\n",
              "      <th>4</th>\n",
              "      <td>48357</td>\n",
              "      <td>Regata Danca Dos Tucanos</td>\n",
              "      <td>https://www.farmrio.com.br/regata-danca-dos-tu...</td>\n",
              "      <td>Farm</td>\n",
              "      <td>Alto Verao 2021</td>\n",
              "      <td>100% Viscose</td>\n",
              "      <td>DANCA DOS TUCANOS_PRETO</td>\n",
              "      <td>P</td>\n",
              "      <td>29072810805P</td>\n",
              "      <td>None</td>\n",
              "      <td>149.0</td>\n",
              "      <td>149.0</td>\n",
              "    </tr>\n",
              "    <tr>\n",
              "      <th>...</th>\n",
              "      <td>...</td>\n",
              "      <td>...</td>\n",
              "      <td>...</td>\n",
              "      <td>...</td>\n",
              "      <td>...</td>\n",
              "      <td>...</td>\n",
              "      <td>...</td>\n",
              "      <td>...</td>\n",
              "      <td>...</td>\n",
              "      <td>...</td>\n",
              "      <td>...</td>\n",
              "      <td>...</td>\n",
              "    </tr>\n",
              "    <tr>\n",
              "      <th>7248</th>\n",
              "      <td>38290</td>\n",
              "      <td>Top Mix Rendas</td>\n",
              "      <td>https://www.farmrio.com.br/top-mix-rendas-off-...</td>\n",
              "      <td>Farm</td>\n",
              "      <td>Provisorio</td>\n",
              "      <td>100% Algodão</td>\n",
              "      <td></td>\n",
              "      <td>G</td>\n",
              "      <td>2778620024G</td>\n",
              "      <td>None</td>\n",
              "      <td>298.0</td>\n",
              "      <td>208.0</td>\n",
              "    </tr>\n",
              "    <tr>\n",
              "      <th>7249</th>\n",
              "      <td>36676</td>\n",
              "      <td>Regata Desejo Sorte</td>\n",
              "      <td>https://www.farmrio.com.br/regata-desejo-sorte...</td>\n",
              "      <td>Farm</td>\n",
              "      <td>Provisorio</td>\n",
              "      <td>100% Viscose</td>\n",
              "      <td></td>\n",
              "      <td>PP</td>\n",
              "      <td>2785280024PP</td>\n",
              "      <td>Code: withoutStock Status:error Message: O ite...</td>\n",
              "      <td>0.0</td>\n",
              "      <td>0.0</td>\n",
              "    </tr>\n",
              "    <tr>\n",
              "      <th>7250</th>\n",
              "      <td>36676</td>\n",
              "      <td>Regata Desejo Sorte</td>\n",
              "      <td>https://www.farmrio.com.br/regata-desejo-sorte...</td>\n",
              "      <td>Farm</td>\n",
              "      <td>Provisorio</td>\n",
              "      <td>100% Viscose</td>\n",
              "      <td></td>\n",
              "      <td>P</td>\n",
              "      <td>2785280024P</td>\n",
              "      <td>None</td>\n",
              "      <td>89.0</td>\n",
              "      <td>89.0</td>\n",
              "    </tr>\n",
              "    <tr>\n",
              "      <th>7251</th>\n",
              "      <td>36676</td>\n",
              "      <td>Regata Desejo Sorte</td>\n",
              "      <td>https://www.farmrio.com.br/regata-desejo-sorte...</td>\n",
              "      <td>Farm</td>\n",
              "      <td>Provisorio</td>\n",
              "      <td>100% Viscose</td>\n",
              "      <td></td>\n",
              "      <td>M</td>\n",
              "      <td>2785280024M</td>\n",
              "      <td>None</td>\n",
              "      <td>89.0</td>\n",
              "      <td>89.0</td>\n",
              "    </tr>\n",
              "    <tr>\n",
              "      <th>7252</th>\n",
              "      <td>36676</td>\n",
              "      <td>Regata Desejo Sorte</td>\n",
              "      <td>https://www.farmrio.com.br/regata-desejo-sorte...</td>\n",
              "      <td>Farm</td>\n",
              "      <td>Provisorio</td>\n",
              "      <td>100% Viscose</td>\n",
              "      <td></td>\n",
              "      <td>G</td>\n",
              "      <td>2785280024G</td>\n",
              "      <td>None</td>\n",
              "      <td>89.0</td>\n",
              "      <td>89.0</td>\n",
              "    </tr>\n",
              "  </tbody>\n",
              "</table>\n",
              "<p>7253 rows × 12 columns</p>\n",
              "</div>"
            ],
            "text/plain": [
              "         ID                           Nome  ... Preço default Preco atual\n",
              "0     46185           Choker Multicolorida  ...           0.0         0.0\n",
              "1     46180  Colar Contrapinado Tons Frios  ...         198.0       198.0\n",
              "2       566     Bolsa Abacaxi Couro Grande  ...         698.0       698.0\n",
              "3     48357       Regata Danca Dos Tucanos  ...         149.0       149.0\n",
              "4     48357       Regata Danca Dos Tucanos  ...         149.0       149.0\n",
              "...     ...                            ...  ...           ...         ...\n",
              "7248  38290                 Top Mix Rendas  ...         298.0       208.0\n",
              "7249  36676            Regata Desejo Sorte  ...           0.0         0.0\n",
              "7250  36676            Regata Desejo Sorte  ...          89.0        89.0\n",
              "7251  36676            Regata Desejo Sorte  ...          89.0        89.0\n",
              "7252  36676            Regata Desejo Sorte  ...          89.0        89.0\n",
              "\n",
              "[7253 rows x 12 columns]"
            ]
          },
          "metadata": {
            "tags": []
          },
          "execution_count": 17
        }
      ]
    }
  ]
}