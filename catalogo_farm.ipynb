{
  "nbformat": 4,
  "nbformat_minor": 0,
  "metadata": {
    "colab": {
      "name": "catalogo_farm.ipynb",
      "provenance": [],
      "collapsed_sections": [],
      "include_colab_link": true
    },
    "kernelspec": {
      "name": "python3",
      "display_name": "Python 3"
    }
  },
  "cells": [
    {
      "cell_type": "markdown",
      "metadata": {
        "id": "view-in-github",
        "colab_type": "text"
      },
      "source": [
        "<a href=\"https://colab.research.google.com/github/vinismachadoo/web_scrapping_farm/blob/main/catalogo_farm.ipynb\" target=\"_parent\"><img src=\"https://colab.research.google.com/assets/colab-badge.svg\" alt=\"Open In Colab\"/></a>"
      ]
    },
    {
      "cell_type": "code",
      "metadata": {
        "id": "BXL2weZSCr8T"
      },
      "source": [
        "import requests, threading\n",
        "from multiprocessing.pool import ThreadPool, Pool\n",
        "from bs4 import BeautifulSoup\n",
        "import pandas as pd"
      ],
      "execution_count": 1,
      "outputs": []
    },
    {
      "cell_type": "code",
      "metadata": {
        "id": "AKWRZPClzB-Q",
        "outputId": "8ebdae5c-13de-48b0-f77e-5a43910f5821",
        "colab": {
          "base_uri": "https://localhost:8080/"
        }
      },
      "source": [
        "url_base = 'https://www.farmrio.com.br'\n",
        "subcategorias_farm = []\n",
        "\n",
        "pagina_inicial = requests.get(url_base)\n",
        "soup = BeautifulSoup(pagina_inicial.content, 'html.parser')\n",
        "menu = soup.find_all('a', {'class':'menu__link menu__link--level-3'})\n",
        "for m in menu:\n",
        "    if 'http' not in m.get('href'):\n",
        "        subcategorias_farm.append(url_base+m.get('href'))\n",
        "    else:\n",
        "        subcategorias_farm.append(m.get('href'))\n",
        "\n",
        "print(len(subcategorias_farm))"
      ],
      "execution_count": 20,
      "outputs": [
        {
          "output_type": "stream",
          "text": [
            "79\n"
          ],
          "name": "stdout"
        }
      ]
    },
    {
      "cell_type": "code",
      "metadata": {
        "id": "WAAXcNZv1b5i",
        "outputId": "875752c0-5edd-4875-cf90-6bf3ce5cf167",
        "colab": {
          "base_uri": "https://localhost:8080/"
        }
      },
      "source": [
        "def encontra_url_categorias(subcategoria):\n",
        "    pagina_categoria = requests.get(subcategoria)\n",
        "    soup = BeautifulSoup(pagina_categoria.text, 'html.parser')\n",
        "    scripts = soup.find_all('script')\n",
        "    for script in scripts:\n",
        "        s = script.string\n",
        "        if s is not None and 'var pagecount' in s:\n",
        "            cat_url = s.split(\"load('\")[1].split(\"' + page\")[0]\n",
        "            lista_url_cartegorias.append(url_base+cat_url)\n",
        "        else:\n",
        "            pass\n",
        "\n",
        "lista_url_cartegorias = []\n",
        "ThreadPool(15).map(encontra_url_categorias, subcategorias_farm)\n",
        "urls_farm = list(dict.fromkeys(lista_url_cartegorias))\n",
        "print(len(urls_farm))"
      ],
      "execution_count": 22,
      "outputs": [
        {
          "output_type": "stream",
          "text": [
            "35\n"
          ],
          "name": "stdout"
        }
      ]
    }
  ]
}